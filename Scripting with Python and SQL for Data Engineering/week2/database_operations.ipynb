{
 "cells": [
  {
   "cell_type": "code",
   "execution_count": 5,
   "metadata": {},
   "outputs": [],
   "source": [
    "# !pip install faker\n",
    "from faker import Faker\n",
    "\n",
    "fake = Faker()\n",
    "# names will be used as firstName and lastName\n",
    "names = [fake.name().split() for i in range(100)]\n",
    "names = [name for name in names if len(name)==2]"
   ]
  },
  {
   "cell_type": "code",
   "execution_count": 6,
   "metadata": {},
   "outputs": [],
   "source": [
    "import sqlite3\n",
    "connection = sqlite3.connect(\"sample.db\")"
   ]
  },
  {
   "cell_type": "code",
   "execution_count": 7,
   "metadata": {},
   "outputs": [],
   "source": [
    "cursor = connection.cursor()\n",
    "insert_query = 'INSERT INTO people(name, surname) VALUES(?, ?)'\n",
    "\n",
    "for name in names:\n",
    "    cursor.execute(insert_query, name)\n",
    "connection.commit()"
   ]
  },
  {
   "cell_type": "code",
   "execution_count": 8,
   "metadata": {},
   "outputs": [
    {
     "name": "stdout",
     "output_type": "stream",
     "text": [
      "(1, 'Barbara', 'Snow')\n",
      "(2, 'Sara', 'Sellers')\n",
      "(3, 'Henry', 'Thornton')\n",
      "(4, 'Elizabeth', 'Davis')\n",
      "(5, 'Frances', 'James')\n",
      "(6, 'Christopher', 'Jones')\n",
      "(7, 'James', 'Lewis')\n",
      "(8, 'Christopher', 'Yoder')\n",
      "(9, 'Manuel', 'Wolf')\n",
      "(10, 'Elaine', 'Russell')\n"
     ]
    }
   ],
   "source": [
    "select_query = 'SELECT * from people LIMIT 10'\n",
    "for i in cursor.execute(select_query):\n",
    "    print(i)"
   ]
  },
  {
   "cell_type": "code",
   "execution_count": null,
   "metadata": {},
   "outputs": [],
   "source": []
  }
 ],
 "metadata": {
  "kernelspec": {
   "display_name": "Python 3.8.0 64-bit",
   "language": "python",
   "name": "python3"
  },
  "language_info": {
   "codemirror_mode": {
    "name": "ipython",
    "version": 3
   },
   "file_extension": ".py",
   "mimetype": "text/x-python",
   "name": "python",
   "nbconvert_exporter": "python",
   "pygments_lexer": "ipython3",
   "version": "3.8.0"
  },
  "orig_nbformat": 4,
  "vscode": {
   "interpreter": {
    "hash": "f544ce1a915a9875fad91c894e2c0bcad4b7a79945aa6027ef3ad27810072aa6"
   }
  }
 },
 "nbformat": 4,
 "nbformat_minor": 2
}
