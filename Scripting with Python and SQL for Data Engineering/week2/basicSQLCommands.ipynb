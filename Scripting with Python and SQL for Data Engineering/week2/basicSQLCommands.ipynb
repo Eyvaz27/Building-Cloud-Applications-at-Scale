{
 "cells": [
  {
   "cell_type": "code",
   "execution_count": 1,
   "metadata": {},
   "outputs": [],
   "source": [
    "import sqlite3\n",
    "connection = sqlite3.connect('sample.db')\n",
    "cursor = connection.cursor()"
   ]
  },
  {
   "cell_type": "code",
   "execution_count": 6,
   "metadata": {},
   "outputs": [
    {
     "name": "stdout",
     "output_type": "stream",
     "text": [
      "(1, 'Barbara', 'Snow')\n",
      "(2, 'Sara', 'Sellers')\n",
      "(3, 'Henry', 'Thornton')\n",
      "(4, 'Elizabeth', 'Davis')\n",
      "(5, 'Frances', 'James')\n",
      "(6, 'Christopher', 'Jones')\n",
      "(7, 'James', 'Lewis')\n",
      "(8, 'Christopher', 'Yoder')\n",
      "(9, 'Manuel', 'Wolf')\n",
      "(10, 'Elaine', 'Russell')\n"
     ]
    }
   ],
   "source": [
    "query = 'SELECT * FROM people LIMIT 10'\n",
    "count = 0\n",
    "for result in cursor.execute(query):\n",
    "    print(result)\n",
    "    # count += 1\n",
    "    # if count > 10:\n",
    "    #     break"
   ]
  },
  {
   "cell_type": "code",
   "execution_count": 7,
   "metadata": {},
   "outputs": [
    {
     "name": "stdout",
     "output_type": "stream",
     "text": [
      "('Barbara',)\n",
      "('Sara',)\n",
      "('Henry',)\n",
      "('Elizabeth',)\n",
      "('Frances',)\n",
      "('Christopher',)\n",
      "('James',)\n",
      "('Christopher',)\n",
      "('Manuel',)\n",
      "('Elaine',)\n"
     ]
    }
   ],
   "source": [
    "query = 'SELECT name FROM people LIMIT 10'\n",
    "for result in cursor.execute(query):\n",
    "    print(result)"
   ]
  },
  {
   "cell_type": "code",
   "execution_count": 10,
   "metadata": {},
   "outputs": [
    {
     "name": "stdout",
     "output_type": "stream",
     "text": [
      "('James', 'Lewis')\n",
      "('James', 'Johnson')\n"
     ]
    }
   ],
   "source": [
    "query = 'SELECT name, surname FROM people WHERE name=\"James\" ORDER BY name DESC'\n",
    "for result in cursor.execute(query):\n",
    "    print(result)"
   ]
  },
  {
   "cell_type": "code",
   "execution_count": null,
   "metadata": {},
   "outputs": [],
   "source": []
  }
 ],
 "metadata": {
  "kernelspec": {
   "display_name": "Python 3.8.0 64-bit",
   "language": "python",
   "name": "python3"
  },
  "language_info": {
   "codemirror_mode": {
    "name": "ipython",
    "version": 3
   },
   "file_extension": ".py",
   "mimetype": "text/x-python",
   "name": "python",
   "nbconvert_exporter": "python",
   "pygments_lexer": "ipython3",
   "version": "3.8.0"
  },
  "orig_nbformat": 4,
  "vscode": {
   "interpreter": {
    "hash": "f544ce1a915a9875fad91c894e2c0bcad4b7a79945aa6027ef3ad27810072aa6"
   }
  }
 },
 "nbformat": 4,
 "nbformat_minor": 2
}
